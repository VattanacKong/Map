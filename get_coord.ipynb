{
 "cells": [
  {
   "cell_type": "code",
   "execution_count": 21,
   "metadata": {},
   "outputs": [
    {
     "name": "stdout",
     "output_type": "stream",
     "text": [
      "/home/vattanac_kong/miniforge3/envs/TGI3.10/bin/python\n",
      "Python 3.10.14\n"
     ]
    }
   ],
   "source": [
    "!which python\n",
    "!python --version"
   ]
  },
  {
   "cell_type": "code",
   "execution_count": 2,
   "metadata": {},
   "outputs": [],
   "source": [
    "import requests\n",
    "import json"
   ]
  },
  {
   "cell_type": "markdown",
   "metadata": {},
   "source": [
    "API key\n"
   ]
  },
  {
   "cell_type": "code",
   "execution_count": 3,
   "metadata": {},
   "outputs": [],
   "source": [
    "API_KEY = 'xxxxxx'"
   ]
  },
  {
   "cell_type": "markdown",
   "metadata": {},
   "source": [
    "Base URL"
   ]
  },
  {
   "cell_type": "code",
   "execution_count": 4,
   "metadata": {},
   "outputs": [],
   "source": [
    "base_URL = 'https://maps.googleapis.com/maps/api/geocode/json?'"
   ]
  },
  {
   "cell_type": "markdown",
   "metadata": {},
   "source": [
    "Districts\n"
   ]
  },
  {
   "cell_type": "code",
   "execution_count": 5,
   "metadata": {},
   "outputs": [],
   "source": [
    "districts = [\n",
    "    'Chamkar Mon, Phnom Penh', 'Tuol Kouk, Phnom Penh', 'Koh Thom, Kandal',\n",
    "    'Chbar Ampov, Phnom Penh', 'Dangkao, Phnom Penh'\n",
    "]"
   ]
  },
  {
   "cell_type": "markdown",
   "metadata": {},
   "source": [
    "Function\n"
   ]
  },
  {
   "cell_type": "code",
   "execution_count": 11,
   "metadata": {},
   "outputs": [],
   "source": [
    "def get_coords(params):\n",
    "    response = requests.get(base_URL, params= params).json()\n",
    "    if response['status'] == 'OK':\n",
    "        result = response['results']\n",
    "        geometry = result[0]['geometry']\n",
    "        adr = result[0]['formatted_address']\n",
    "        coord = geometry['location']\n",
    "        content = {\n",
    "            'address' : adr,\n",
    "            'location': coord\n",
    "        }\n",
    "        with open('coord.json', 'w') as file:\n",
    "            json.dump(content, file, indent = 4)\n",
    "        print('success')\n",
    "    else:\n",
    "        content = {\n",
    "            'address' : 'a coord could not be found'\n",
    "        }\n",
    "        with open('coord.json', 'w') as file:\n",
    "            json.dump(content, file, indent = 4)\n",
    "        print('fail')"
   ]
  },
  {
   "cell_type": "markdown",
   "metadata": {},
   "source": [
    "Call function\n"
   ]
  },
  {
   "cell_type": "code",
   "execution_count": 22,
   "metadata": {},
   "outputs": [
    {
     "name": "stdout",
     "output_type": "stream",
     "text": [
      "success\n",
      "success\n",
      "success\n",
      "success\n",
      "success\n"
     ]
    }
   ],
   "source": [
    "for district in districts:\n",
    "    params = {'key' : API_KEY,'address' : district}\n",
    "    get_coords(params)"
   ]
  }
 ],
 "metadata": {
  "kernelspec": {
   "display_name": "TGI3.10",
   "language": "python",
   "name": "python3"
  },
  "language_info": {
   "codemirror_mode": {
    "name": "ipython",
    "version": 3
   },
   "file_extension": ".py",
   "mimetype": "text/x-python",
   "name": "python",
   "nbconvert_exporter": "python",
   "pygments_lexer": "ipython3",
   "version": "3.10.14"
  }
 },
 "nbformat": 4,
 "nbformat_minor": 2
}
